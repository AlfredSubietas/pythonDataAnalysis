{
 "cells": [
  {
   "cell_type": "code",
   "execution_count": 3,
   "metadata": {},
   "outputs": [],
   "source": [
    "from IPython.display import Image\n"
   ]
  },
  {
   "cell_type": "markdown",
   "metadata": {},
   "source": [
    "# Exercise 1: A basic Calculator\n",
    "a) Create a program that calculates the sum, rest, product and quotient of 5 and 4 \n",
    "\n",
    "\n",
    "b) Modifiy the previous program so that it makes such operations on two given integers given through the CEE. Use the **input()** method so that the program shows a message asking for the integers to the user. The program must show the opearation it is doing (for example: 14 + 11 = 25). What happens when the second integer is zero?\n",
    "\n",
    "\n",
    "c) What happens when you enter strings instead of numbers?\n",
    "\n",
    "d) Midify the program si that it also admits real numbers."
   ]
  },
  {
   "cell_type": "code",
   "execution_count": null,
   "metadata": {},
   "outputs": [],
   "source": [
    "#Write your program here"
   ]
  },
  {
   "cell_type": "code",
   "execution_count": null,
   "metadata": {},
   "outputs": [],
   "source": []
  },
  {
   "cell_type": "markdown",
   "metadata": {},
   "source": [
    "# Exercise 2: Pollution\n",
    "\n",
    "Given by the user a certain amount of liters of crude oil that will be used to generate gas, write on the screen how many liters of gas and how many kg of CO2 will be produced with said quantity of crude oil.\n",
    "\n",
    "1 barrel contains 158.987 litres\n",
    "\n",
    "1 barrel produces 74 litres of gas\n",
    "\n",
    "2.3 kg CO2 are generated for every litre of gas\n"
   ]
  },
  {
   "cell_type": "code",
   "execution_count": null,
   "metadata": {},
   "outputs": [],
   "source": [
    "#Write your code here"
   ]
  },
  {
   "cell_type": "code",
   "execution_count": null,
   "metadata": {},
   "outputs": [],
   "source": []
  },
  {
   "cell_type": "markdown",
   "metadata": {},
   "source": [
    "# Exercise 3: Printing"
   ]
  },
  {
   "cell_type": "markdown",
   "metadata": {},
   "source": [
    "Take the sentence: All work and no play makes Jack a dull boy. Store each word in a separate variable, then\n",
    "print out the sentence on one line using print."
   ]
  },
  {
   "cell_type": "code",
   "execution_count": 1,
   "metadata": {},
   "outputs": [],
   "source": [
    "#Write your code here"
   ]
  },
  {
   "cell_type": "code",
   "execution_count": null,
   "metadata": {},
   "outputs": [],
   "source": []
  },
  {
   "cell_type": "markdown",
   "metadata": {},
   "source": [
    "# Exercise 4: Parenthesis\n",
    "Add parenthesis to the expression 6 * 1 - 2 to change its value from 4 to -6."
   ]
  },
  {
   "cell_type": "code",
   "execution_count": 2,
   "metadata": {},
   "outputs": [],
   "source": [
    "#write your code here"
   ]
  },
  {
   "cell_type": "code",
   "execution_count": null,
   "metadata": {},
   "outputs": [],
   "source": []
  },
  {
   "cell_type": "markdown",
   "metadata": {},
   "source": [
    "# Exercise 5: Compound interest\n",
    "\n",
    "The formula for computing the final amount if one is earning compound interest is given on Wikipedia as:\n",
    "\n",
    "\n",
    "![title](https://wikimedia.org/api/rest_v1/media/math/render/svg/fa03ff45055223efd29eaaf990c5a85086a139aa)\n",
    "\n",
    "where:\n",
    "\n",
    "P is the original principal sum\n",
    "\n",
    "P' is the new principal sum\n",
    "\n",
    "r is the nominal annual interest rate\n",
    "\n",
    "n is the compounding frequency\n",
    "\n",
    "t is the overall length of time the interest is applied (expressed using the same time units as r, usually years).\n",
    "\n",
    "\n",
    "\n",
    "Here, P is the principal amount (the amount that the interest is provided on), n the frequency that the interest\n",
    "is paid out (per year), and r the interest rate. The number of years that the interest is calculated for is t. Write\n",
    "a program that replaces these letters with something a bit more human-readable, and calculate the interest for\n",
    "some varying amounts of money at realistic interest rates such as 1%, and -0.05%. When you have that working,\n",
    "ask the user for the value of some of these variables and do the calculation."
   ]
  },
  {
   "cell_type": "code",
   "execution_count": 4,
   "metadata": {},
   "outputs": [],
   "source": [
    "#write your code here"
   ]
  },
  {
   "cell_type": "code",
   "execution_count": null,
   "metadata": {},
   "outputs": [],
   "source": []
  },
  {
   "cell_type": "markdown",
   "metadata": {},
   "source": [
    "# Exercise 6: Conversions\n"
   ]
  },
  {
   "cell_type": "markdown",
   "metadata": {},
   "source": [
    "Design the following expressions:\n",
    "\n",
    "\n",
    "- Design an expression that given three variables with the values of time expressed in hours, minutes and seconds respectively calulates the value expressed in seconds.\n",
    "\n",
    "- Design an expression that given a variable expressed in kiloponds shows on screen its value in Newtons\n",
    "\n",
    "- Design an expression that given its value in miles calculates its value in meters\n",
    "\n",
    "- Design an expression that, given its value in meters (integer), shows on screen its value in Km, Hm, Dm, m.\n",
    "\n",
    "- Design an expression that, given its value in meters (floating point), shows on screen its value in Km, Hm, Dm, m, dm,cm & mm.\n",
    "\n",
    "- Design an expression that given a variable expressed in Celsius degrees, calculates its value in degrees Kelvin.\n",
    "\n",
    "- Design an expression that given a variable expressed in Celsius degrees, calculates its value in degreen Fahrenheit.\n",
    "\n",
    "- Design an expression that, given a variable with the value of an angle expressed in degrees, calculates its value in radians\n"
   ]
  },
  {
   "cell_type": "code",
   "execution_count": 5,
   "metadata": {},
   "outputs": [],
   "source": [
    "#write your code here"
   ]
  },
  {
   "cell_type": "code",
   "execution_count": null,
   "metadata": {},
   "outputs": [],
   "source": []
  },
  {
   "cell_type": "markdown",
   "metadata": {},
   "source": [
    "# Exercise 7: Physics \n",
    "\n",
    "Design programs in Python to solve the following simple physics problems:\n",
    "\n",
    "- Given by the keyboard the electrical resistance (in ohms) and the electrical potencial difference (in volts) calculate and show on the screen the electric current (in amperes) according to the Ohm's law.  \n",
    "\n",
    "- Calculate the speed in m/s of an object on a one-dimensional motion that takes **t** minutes to cross a distance of **D** kilometers. Assume that **t** and **D** are given by the keyboard\n",
    "\n",
    "- Calculate the position of an object moving on a constant accelaration, expressed in **a** m/s2, with an initial speed of **v0** empressed in m/s and an intial position of **x0** meters after **t** minutes of initializing the movement. Assume that __a, v0, x0 & t__ are given by the keyboard.\n",
    "\n",
    "- An automobile is at the coordinate origin and is traveling in a uniform rectilinear motion at a speed of **v1** expressed in km / h. Another car at a distance of **x** meters in front of the first one is moving after **t** seconds in the same direction and with constant speed **v2** (in km / h). When will the first car take the second one? At what point? Suppose that __v1, v2, x and t__ are given by the keyboard.-  \n",
    "\n",
    "\n"
   ]
  },
  {
   "cell_type": "code",
   "execution_count": null,
   "metadata": {},
   "outputs": [],
   "source": [
    "#write your code here"
   ]
  },
  {
   "cell_type": "code",
   "execution_count": null,
   "metadata": {},
   "outputs": [],
   "source": []
  },
  {
   "cell_type": "markdown",
   "metadata": {},
   "source": [
    "# Exercise 8: Geometry\n",
    "\n",
    "\n",
    "\n",
    "\n",
    "\n",
    "- Design an expression that, based on a variable with the radius of a circle, calculates its perimeter and area. Each of these values will be put into a new variable.\n",
    "\n",
    "- Design an expression that, based on a variable with the radius of a sphere, calculates its area and volume.\n",
    "- Design an expression that, based on two variables, one with the length of the base and the other with the height of a rectangle, calculate its perimeter and area.\n",
    "- Design an expression that, based on three variables, two with the coordinates of the lower left vertex and the other with the length of the side of a square, calculate the coordinates of the upper right vertex.\n",
    "- Design an expression that, based on the lengths of the two cathets of a right triangle, given in two variables, calculate the length of the hypotenuse.\n",
    "- Design an expression that, based on the length of the hypotenuse of a right-angled triangle and the value in radians of one of its non-right angles (given in two variables), calculate the lengths of the two cathets.\n",
    "- Design an expression that gives a variable with the length of the hypotenuse of a right triangle and another with the value in degrees of one of its non-right angles, and calculate the lengths of the two legs."
   ]
  },
  {
   "cell_type": "code",
   "execution_count": null,
   "metadata": {},
   "outputs": [],
   "source": [
    "#write your code here"
   ]
  },
  {
   "cell_type": "code",
   "execution_count": null,
   "metadata": {},
   "outputs": [],
   "source": []
  }
 ],
 "metadata": {
  "kernelspec": {
   "display_name": "Python 3",
   "language": "python",
   "name": "python3"
  },
  "language_info": {
   "codemirror_mode": {
    "name": "ipython",
    "version": 3
   },
   "file_extension": ".py",
   "mimetype": "text/x-python",
   "name": "python",
   "nbconvert_exporter": "python",
   "pygments_lexer": "ipython3",
   "version": "3.7.4"
  }
 },
 "nbformat": 4,
 "nbformat_minor": 2
}
