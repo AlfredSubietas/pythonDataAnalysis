{
 "cells": [
  {
   "cell_type": "markdown",
   "metadata": {},
   "source": [
    "# What you'll learn"
   ]
  },
  {
   "cell_type": "markdown",
   "metadata": {},
   "source": [
    "On this first lesson of Python we will learn the basic concepts of Python, computer science and Data analysis <br>\n",
    "\n"
   ]
  },
  {
   "cell_type": "markdown",
   "metadata": {},
   "source": [
    "## 1.1 Python as a Programming Language"
   ]
  },
  {
   "cell_type": "markdown",
   "metadata": {},
   "source": [
    "### Python is an interpreted, high-level, general-purpose programming language. <br>\n",
    "\n",
    "Let's analyse what this definition means: <br>\n",
    "\n",
    " - __Interpreted__: An interpreted language is a programming language that execute instructions directly without the need of previously compiling. The program translates directly each statement from a human-readable language to machine code. On the contrary, a compiling language is a programming language whose implementations are typically compilers (translators that generate machine code from source code), and not interpreters (step-by-step executors of source code, where no pre-runtime translation takes place).\n",
    " \n",
    " \n",
    " - __High-level__: A programming language like Python that is designed to be easy for humans to read and write. In contrast to low-level programming languages, it may use natural language elements, be easier to use, or may automate (or even hide entirely) significant areas of computing systems (e.g. memory management), making the process of developing a program simpler and more understandable than when using a lower-level language, which uses commands close to processos instructions. The word \"low\" refers to the small or nonexistent amount of abstraction between the language and machine language; because of this, low-level languages are sometimes described as being \"close to the hardware\". \n",
    "\n",
    "\n",
    " \n",
    " \n",
    " - __General-purpose__: In computer software, a general-purpose programming language is a programming language designed to be used for writing software in the widest variety of application domains (a general-purpose language). A general-purpose programming language has this status because it does not include language constructs designed to be used within a specific application domain. Conversely, a domain-specific programming language is one designed to be used within a specific application domain. Examples include page description languages and database query languages (eg: SQL)\n",
    "\n",
    "\n",
    "- __Programming Language__ : a set of rules, words, etc. that are used for writing computer programs. A programming language is a notation for writing programs, which are specifications of a computation or algorithm.\n",
    "\n"
   ]
  },
  {
   "cell_type": "markdown",
   "metadata": {},
   "source": [
    "## 1.2 Computer Programs"
   ]
  },
  {
   "cell_type": "markdown",
   "metadata": {},
   "source": [
    "A computer program is a set or sequence of instructions that order the computer on how to perform a specific task. This set of striction can be mathematical, like finding the inverse of a matrix or an arithmetic operation, or symbolic, such as writing text of a document or setting up a webpage"
   ]
  },
  {
   "cell_type": "markdown",
   "metadata": {},
   "source": [
    "The first two elements that we need to know about a computer program are the input and output. Input refers to what the program **feeds** of and output is what it **returns**"
   ]
  },
  {
   "cell_type": "markdown",
   "metadata": {},
   "source": [
    " - __Input__: The program recieves data from the keyboard, a file or any other source such as a sensor\n",
    " \n",
    " \n",
    " \n",
    " - __Output__: The program after executing can display data on the screen or send data to a file or other device such as a motor.\n",
    "  \n"
   ]
  },
  {
   "cell_type": "markdown",
   "metadata": {},
   "source": [
    "## 1.3 The \" Hello World! \" Program"
   ]
  },
  {
   "cell_type": "markdown",
   "metadata": {},
   "source": [
    "Traditionally, the first program written in a new language is called Hello, World! because all it does is display the\n",
    "words, Hello, World! \n",
    "\n",
    "A \"Hello, World!\" program is traditionally used to introduce novice programmers to a programming language.\n",
    "\n",
    "It also was, and still is, used to do a sanity test to make sure that a computer language is correctly installed, and that the operator understands how to use it.\n",
    "\n",
    "\n",
    "In Python, the script looks like this: "
   ]
  },
  {
   "cell_type": "code",
   "execution_count": 2,
   "metadata": {},
   "outputs": [
    {
     "name": "stdout",
     "output_type": "stream",
     "text": [
      "Hello World!\n"
     ]
    }
   ],
   "source": [
    "print(\"Hello World!\")"
   ]
  },
  {
   "cell_type": "markdown",
   "metadata": {},
   "source": [
    "This is an example of using the print function, which displays a value on\n",
    "the screen. In this case, the result shown is as shown before. \n",
    "\n",
    "Here we can see the **input** and **output** clearly. We see that the user introduces \" *print(\"Hello World!\")* \" as an input in the **Python Prompt** and the computer generates the output \" *Hello World!* . We can see the output as a response of the **interpreter**.   "
   ]
  },
  {
   "cell_type": "markdown",
   "metadata": {},
   "source": [
    "On this repository we are presenting the different computer programs on a Jupyter Notebook. Alternatively, you can write a program in a file and use the interpreter to execute the contents of the file. Such a file is\n",
    "called a **script**.\n"
   ]
  },
  {
   "cell_type": "markdown",
   "metadata": {},
   "source": [
    "## 1.4 Comments "
   ]
  },
  {
   "cell_type": "markdown",
   "metadata": {},
   "source": [
    "Sometimes programms can get big and complicated. On such cases it could be difficult for a programmer to understand what the script of another programmer is doing and work on it. On jupyter notebooks this problem is saved by the markdown cells you can generate, but on .py and other files there's the necessity to explain what the progra or even each line is doing using the hastag.\n"
   ]
  },
  {
   "cell_type": "markdown",
   "metadata": {},
   "source": [
    "In Python, the # token starts a comment. The rest of the line is ignored. "
   ]
  },
  {
   "cell_type": "code",
   "execution_count": 7,
   "metadata": {},
   "outputs": [],
   "source": [
    "#This is a commentary. \n",
    "#You may write this on any line to explain  why you decidied to structure your script in such a manner. "
   ]
  },
  {
   "cell_type": "markdown",
   "metadata": {},
   "source": [
    "Here is a new version of Hello, World!."
   ]
  },
  {
   "cell_type": "code",
   "execution_count": 4,
   "metadata": {},
   "outputs": [
    {
     "name": "stdout",
     "output_type": "stream",
     "text": [
      "Hello World!\n"
     ]
    }
   ],
   "source": [
    "print(\"Hello World!\") #Congratulations on your first python program!!"
   ]
  },
  {
   "cell_type": "markdown",
   "metadata": {},
   "source": [
    "As you can see Python ignored the comment and executed the program \"*Hello World!*\" as it wasn't there."
   ]
  },
  {
   "cell_type": "markdown",
   "metadata": {},
   "source": [
    "## 1.5 Types of variables\n"
   ]
  },
  {
   "cell_type": "markdown",
   "metadata": {},
   "source": [
    "In Python we call the different type of values **data types** or **classes**. Classes should not be confused with fuctions, which will be explained on another Notebook."
   ]
  },
  {
   "cell_type": "markdown",
   "metadata": {},
   "source": [
    "The four basic classes in python are integers, floats, strings and booleans.\n",
    "\n",
    "- __Integers__: Integers, represented by \"int\" represent integer numbers. By nature integers are **discrete** variables\n",
    "\n",
    "- __String__: Strings, represented by the code \"str\" represent words made by aphanumeric characters. \n",
    "\n",
    "- __Float__: Floats  represent numerical characters with a decimal point. While Integers are discrete numbers floats are **countinous**. \n",
    "\n",
    "- __Booleans__: Booleans can take only two variables, either True or False. Booleans are commonly the output of a comparation between two or more variables. "
   ]
  },
  {
   "cell_type": "code",
   "execution_count": 22,
   "metadata": {},
   "outputs": [
    {
     "name": "stdout",
     "output_type": "stream",
     "text": [
      "<class 'int'>\n",
      "<class 'float'>\n",
      "<class 'str'>\n",
      "<class 'bool'>\n"
     ]
    }
   ],
   "source": [
    "#This is an integer\n",
    "print(type(5))\n",
    "\n",
    "#This is a float\n",
    "print(type(5.2))\n",
    "\n",
    "#This is a string\n",
    "print(type('some text'))\n",
    "\n",
    "#This a boolean\n",
    "print(type(True))"
   ]
  },
  {
   "cell_type": "markdown",
   "metadata": {},
   "source": [
    "What about \"3\" or \"4.\"? Even though they represent numbers, integer and float respectively they are strings!"
   ]
  },
  {
   "cell_type": "code",
   "execution_count": 19,
   "metadata": {},
   "outputs": [
    {
     "name": "stdout",
     "output_type": "stream",
     "text": [
      "<class 'str'>\n",
      "<class 'str'>\n"
     ]
    }
   ],
   "source": [
    "print(type(\"3\" ))\n",
    "print(type(\"4.\"))"
   ]
  },
  {
   "cell_type": "markdown",
   "metadata": {},
   "source": [
    "## 1.6 Variable assignation \n"
   ]
  },
  {
   "cell_type": "markdown",
   "metadata": {},
   "source": [
    "One of the most basic parts of python is to assign **values** to a **variable** so that you can operate with it. \n",
    "\n",
    "\n",
    "To assign a value to a variable we use the **assignment token**, =, which should not be confused with equals, which uses the token ==. The assignment statement binds a name, on the left-hand side of the operator, to a value, on the right-hand side. "
   ]
  },
  {
   "cell_type": "code",
   "execution_count": 23,
   "metadata": {},
   "outputs": [],
   "source": [
    "advice = \"This is how you assign a string to a variable\"\n",
    "\n",
    "n = 13\n",
    "\n",
    "pi= 3.14159256"
   ]
  },
  {
   "cell_type": "markdown",
   "metadata": {},
   "source": [
    "This example makes three assignments. The first assigns the string value \"*This is how you assign a string to a variable*\" to a variable named advice. The second gives the integer 13 to n, and the third assigns the floating-point number 3.14159256 to\n",
    "a variable called pi."
   ]
  },
  {
   "cell_type": "markdown",
   "metadata": {},
   "source": [
    "Basically, an assignment is an order, and the equals operator can be read as a question mark. This is why you will get an error if you enter:"
   ]
  },
  {
   "cell_type": "code",
   "execution_count": 26,
   "metadata": {},
   "outputs": [
    {
     "ename": "SyntaxError",
     "evalue": "can't assign to literal (<ipython-input-26-e00be312e02d>, line 1)",
     "output_type": "error",
     "traceback": [
      "\u001b[0;36m  File \u001b[0;32m\"<ipython-input-26-e00be312e02d>\"\u001b[0;36m, line \u001b[0;32m1\u001b[0m\n\u001b[0;31m    17=n\u001b[0m\n\u001b[0m        ^\u001b[0m\n\u001b[0;31mSyntaxError\u001b[0m\u001b[0;31m:\u001b[0m can't assign to literal\n"
     ]
    }
   ],
   "source": [
    "17=n"
   ]
  },
  {
   "cell_type": "markdown",
   "metadata": {},
   "source": [
    "As you can see the Python interpreter has rised a **Sintax error** which tell you you can't assign any value to a literal.\n",
    "\n",
    "Remeber to put the variable always at the left side of the equal and the value on the right"
   ]
  },
  {
   "cell_type": "markdown",
   "metadata": {},
   "source": [
    "### Mutability of variables"
   ]
  },
  {
   "cell_type": "markdown",
   "metadata": {},
   "source": [
    "We call varibales \"Mutable\" as they can change their value any time we want:"
   ]
  },
  {
   "cell_type": "code",
   "execution_count": 28,
   "metadata": {},
   "outputs": [
    {
     "name": "stdout",
     "output_type": "stream",
     "text": [
      "True\n",
      "21\n",
      "This a string\n"
     ]
    }
   ],
   "source": [
    "n=True\n",
    "print(n)\n",
    "n = 21\n",
    "print(n)\n",
    "n=\"This a string\"\n",
    "print(n)\n"
   ]
  },
  {
   "cell_type": "markdown",
   "metadata": {},
   "source": [
    "See that we changed the value of **n** three times flawlessly. Variables can change values and even types with no problem. "
   ]
  },
  {
   "cell_type": "markdown",
   "metadata": {},
   "source": [
    "### Prohibited names"
   ]
  },
  {
   "cell_type": "markdown",
   "metadata": {},
   "source": [
    "We can assign as a varibale almost any alphanumeric combinatic, but there's some rules that you need to have in mind when deciding in names:\n",
    "\n",
    "- __1. Can't start with a number__\n",
    "- __2. Can contain only underscores as symbols. Any other symbol is not allowed__\n",
    "- __3. Can't contain any of Python's reserved keywords__ \n",
    "\n",
    "You can know Python's keywords using the help procedure in python. Here's a demostration:"
   ]
  },
  {
   "cell_type": "code",
   "execution_count": 34,
   "metadata": {},
   "outputs": [
    {
     "name": "stdout",
     "output_type": "stream",
     "text": [
      "\n",
      "Here is a list of the Python keywords.  Enter any keyword to get more help.\n",
      "\n",
      "False               class               from                or\n",
      "None                continue            global              pass\n",
      "True                def                 if                  raise\n",
      "and                 del                 import              return\n",
      "as                  elif                in                  try\n",
      "assert              else                is                  while\n",
      "async               except              lambda              with\n",
      "await               finally             nonlocal            yield\n",
      "break               for                 not                 \n",
      "\n"
     ]
    }
   ],
   "source": [
    "help(\"keywords\")"
   ]
  },
  {
   "cell_type": "markdown",
   "metadata": {},
   "source": [
    "You'll see you are writing a keyword on the cell as they'll appead either in green.\n",
    "On the following cell see a few examples:"
   ]
  },
  {
   "cell_type": "code",
   "execution_count": 40,
   "metadata": {},
   "outputs": [],
   "source": [
    "False\n",
    "None\n",
    "True\n",
    "pass"
   ]
  },
  {
   "cell_type": "markdown",
   "metadata": {},
   "source": []
  },
  {
   "cell_type": "markdown",
   "metadata": {},
   "source": [
    "## 1.7 Operations in Python"
   ]
  },
  {
   "cell_type": "markdown",
   "metadata": {},
   "source": [
    "Python performs mathematical operations with **operators**. Operators are symbols that represent arithmetic operations like addition, substraction or division. \n"
   ]
  },
  {
   "cell_type": "markdown",
   "metadata": {},
   "source": [
    "- __Addition___ : Addition is performed with the __+__ operator\n",
    "- __Sustraction__: Substraction is perfomed by the __-__ operator\n",
    "- __Multiplication__ : Multiplication is performed by the __*__ operator\n",
    "- __Division__ : The __/__ operation performs divisons\n",
    "- __Exponentiation__: Finally, the __**__ operator performs exponentiation\n",
    "\n",
    "Let's see some examples:"
   ]
  },
  {
   "cell_type": "code",
   "execution_count": 41,
   "metadata": {},
   "outputs": [
    {
     "name": "stdout",
     "output_type": "stream",
     "text": [
      "53\n",
      "-13\n",
      "7.0\n",
      "36\n",
      "9\n"
     ]
    }
   ],
   "source": [
    "print(30 + 23) # This a sum\n",
    "\n",
    "print(65 - 78) # This is substraction\n",
    "\n",
    "print(56 / 8) # This is a division\n",
    "\n",
    "print(12 * 3) #This is a multiplication\n",
    "\n",
    "print(3 ** 2) #This is exponentiation"
   ]
  },
  {
   "cell_type": "markdown",
   "metadata": {},
   "source": [
    "Arithmetic operators act like a calculator. \n",
    "\n",
    "See that the / operator alaways performs the floating point division. This means that even if the divident is a perfect multiplier od the divisor and therefore remainder is zero, the outplut will be a floating point number.\n",
    "\n",
    "### Remainder and quotient\n",
    "\n",
    "Python has given us two extra operators that give us the remainder and quotient of a division without going on the decimals and further. These operators are:\n",
    "\n",
    "- __Remainder__ : The remainder of a division is calculated by the operator  **%**\n",
    "\n",
    "- __Quotient__ : The operator **//** gives us the quotient\n",
    "\n",
    "\n",
    "Let's see some examples:\n",
    "\n"
   ]
  },
  {
   "cell_type": "code",
   "execution_count": 46,
   "metadata": {},
   "outputs": [
    {
     "name": "stdout",
     "output_type": "stream",
     "text": [
      "16\n",
      "1\n"
     ]
    }
   ],
   "source": [
    "print(65//4)\n",
    "\n",
    "print(65%4)\n"
   ]
  },
  {
   "cell_type": "markdown",
   "metadata": {},
   "source": [
    "Remember that when a variable name appears in the place of an operand, it is replaced with its value before the operation is performed."
   ]
  },
  {
   "cell_type": "markdown",
   "metadata": {},
   "source": [
    "### Exercise: Hours minutes and seconds"
   ]
  },
  {
   "cell_type": "markdown",
   "metadata": {},
   "source": [
    "On this exercise we are given a certain number of seconds **s** and we want to know how many hours and minutes are on those seconds "
   ]
  },
  {
   "cell_type": "code",
   "execution_count": 55,
   "metadata": {},
   "outputs": [
    {
     "name": "stdout",
     "output_type": "stream",
     "text": [
      "9\n",
      "35\n",
      "46\n"
     ]
    }
   ],
   "source": [
    "Seconds = 34546\n",
    "hours = Seconds // (60 * 60)\n",
    "Remainder_minutes = Seconds % (60 * 60 )\n",
    "minutes = Remainder_minutes // 60\n",
    "seconds = Remainder_minutes % 60\n",
    "\n",
    "print(hours)\n",
    "print(minutes)\n",
    "print(seconds)"
   ]
  },
  {
   "cell_type": "markdown",
   "metadata": {},
   "source": [
    "On the previous exercise we used first the command:\n",
    "\n",
    "__hours = Seconds // (60 * 60)__  \n",
    "\n",
    "This is command using the **//** operator gives us the quotient of the number of seconds we have divided by the number of seconds in an hour (60 * 60)  \n",
    "\n",
    "__Remainder_minutes = Seconds % (60 * 60 )__\n",
    "\n",
    "This line gives us the remainder of the division. We need this command to know how many minutes remain.\n",
    "\n",
    "__minutes = Remainder_minutes // 60__\n",
    "\n",
    "After getting the **Remainder_minutes** variable we again search for the quocient, this time to know how many minute are there on the remainder\n",
    "\n",
    "__seconds = Remainder_minutes % 60__\n",
    "\n",
    "After getting the minutes we need the remainder of the division, to know how many seconds are left\n",
    "\n",
    "__Result:__ There are 9 hours, 35 minutes and 46 seconds in 34546 seconds\n"
   ]
  },
  {
   "cell_type": "markdown",
   "metadata": {},
   "source": [
    "## 1.8 The input() command"
   ]
  },
  {
   "cell_type": "markdown",
   "metadata": {},
   "source": [
    "We have seen the **print()** function and what it does. It present to the user neartly the output of an order.\n",
    "\n",
    "The input command inputs creates a cell that allows the user to manually introduce the value they prefer. \n",
    "\n",
    "Let's use the previous exercice with the input command\n",
    "\n",
    "Try it yourself and see how the programm reacts to the different inputs you introduce it."
   ]
  },
  {
   "cell_type": "code",
   "execution_count": 88,
   "metadata": {},
   "outputs": [
    {
     "name": "stdout",
     "output_type": "stream",
     "text": [
      "Please, introduce the number of seconds you want to calculate: 8888888\n",
      "2469\n",
      "8\n",
      "8\n"
     ]
    }
   ],
   "source": [
    "Seconds=float(input(\"Please, introduce the number of seconds you want to calculate: \"))\n",
    "hours = Seconds // (60 * 60)\n",
    "Remainder_minutes = Seconds % (60 * 60 )\n",
    "minutes = Remainder_minutes // 60\n",
    "seconds = Remainder_minutes % 60\n",
    "\n",
    "print(hours)\n",
    "print(minutes)\n",
    "print(seconds)"
   ]
  },
  {
   "cell_type": "markdown",
   "metadata": {},
   "source": [
    "### Careful! The program expects a number\n",
    "\n",
    "The program expects a number, therefore if you introduce it any other data type it will raise an error"
   ]
  },
  {
   "cell_type": "markdown",
   "metadata": {},
   "source": [
    "## 1.9 The order of the operations"
   ]
  },
  {
   "cell_type": "markdown",
   "metadata": {},
   "source": [
    "When more than one operator appears in an expression, the order of evaluation depends on the rules of precedence.\n",
    "Python follows the same precedence rules for its mathematical operators that mathematics does. The acronym **PEMDAS** is a useful way to remember the order of operations:\n",
    "\n",
    "\n",
    "1. Parentheses have the highest precedence and can be used to force an expression to evaluate in the order you\n",
    "want. Since expressions in parentheses are evaluated first, 2 * (3-1) is 4, and (1+1)\\**(5-2) is 8. You\n",
    "can also use parentheses to make an expression easier to read, as in (minute * 100) / 60, even though it\n",
    "doesn’t change the result.\n",
    "\n",
    "\n",
    "2. Exponentiation has the next highest precedence, so 2\\**1+1 is 3 and not 4, and 3*1\\**3 is 3 and not 27.\n",
    "\n",
    "\n",
    "3. Multiplication and both Division operators have the same precedence, which is higher than Addition and Subtraction, which also have the same precedence. So 2*3-1 yields 5 rather than 4, and 5-2*2 is 1, not 6.\n",
    "\n",
    "\n",
    "4. Operators with the same precedence are evaluated from left-to-right. In algebra we say they are left-associative.\n",
    "So in the expression 6-3+2, the subtraction happens first, yielding 3. We then add 2 to get the result 5. If\n",
    "the operations had been evaluated from right to left, the result would have been 6-(3+2), which is 1. (The\n",
    "acronym PEDMAS could mislead you to thinking that division has higher precedence than multiplication, and\n",
    "addition is done ahead of subtraction - don’t be misled. Subtraction and addition are at the same precedence,\n",
    "and the left-to-right rule applies.)\n",
    "\n",
    "\n",
    "Due to some historical quirk, an exception to the left-to-right left-associative rule is the exponentiation operator __\\**__, so a useful hint is to always use parentheses to force exactly the order you want when exponentiation is\n",
    "involved:"
   ]
  },
  {
   "cell_type": "code",
   "execution_count": 58,
   "metadata": {},
   "outputs": [
    {
     "data": {
      "text/plain": [
       "512"
      ]
     },
     "execution_count": 58,
     "metadata": {},
     "output_type": "execute_result"
    }
   ],
   "source": [
    "2 ** 3 ** 2 # The right-most ** operator gets done first!"
   ]
  },
  {
   "cell_type": "code",
   "execution_count": 59,
   "metadata": {},
   "outputs": [
    {
     "data": {
      "text/plain": [
       "64"
      ]
     },
     "execution_count": 59,
     "metadata": {},
     "output_type": "execute_result"
    }
   ],
   "source": [
    "(2 ** 3) ** 2"
   ]
  },
  {
   "cell_type": "markdown",
   "metadata": {},
   "source": [
    "## 1.9 Strings in Python\n",
    "Strings in Python are stated as alhpanimeric charaters and symbols between single, double and triple quotes. Let's explain the difference,\n"
   ]
  },
  {
   "cell_type": "code",
   "execution_count": 71,
   "metadata": {},
   "outputs": [
    {
     "name": "stdout",
     "output_type": "stream",
     "text": [
      "This is a string\n",
      "This is a combination of letters, numbers and symbols, 1234567, !·$%&/()=?¿\n"
     ]
    }
   ],
   "source": [
    "print('This is a string')\n",
    "\n",
    "print('This is a combination of letters, numbers and symbols, 1234567, !·$%&/()=?¿')"
   ]
  },
  {
   "cell_type": "markdown",
   "metadata": {},
   "source": [
    "The single apostrophe is the most basic form of marking a string. We can put numeric values, alphabetic characters and even symbols inside of it.\n",
    "\n",
    "As you can see the string beggins with an apostrophe and ends with another apostrophe. What happens if we want to create a string that contains a string? \n",
    "\n",
    "Don't worry, because Python is prepared for this situation. All you need to do is use double quotes:"
   ]
  },
  {
   "cell_type": "code",
   "execution_count": 72,
   "metadata": {},
   "outputs": [
    {
     "name": "stdout",
     "output_type": "stream",
     "text": [
      "This string can contain as many apostrophes as we want '''''''''''''''''\n"
     ]
    }
   ],
   "source": [
    "print(\"This string can contain as many apostrophes as we want '''''''''''''''''\")\n"
   ]
  },
  {
   "cell_type": "markdown",
   "metadata": {},
   "source": [
    "Double quotes are ideal for when you need to add apostrophes inside a string. But you may argue that perhabs this is just a temporary solution, as now we can include a single quote but not a double. Again python has the solution for this: the triple quote"
   ]
  },
  {
   "cell_type": "code",
   "execution_count": 74,
   "metadata": {},
   "outputs": [
    {
     "name": "stdout",
     "output_type": "stream",
     "text": [
      " I say: \"Here we can include double quotes no problem\"  \n"
     ]
    }
   ],
   "source": [
    "print(\"\"\" I say: \"Here we can include double quotes no problem\"  \"\"\")"
   ]
  },
  {
   "cell_type": "markdown",
   "metadata": {},
   "source": [
    "## 1.10 The three different types of strings in print():"
   ]
  },
  {
   "cell_type": "markdown",
   "metadata": {},
   "source": [
    "In Python we can represent strins in a **print** function in three different ways: \n",
    "\n",
    "<pre><code>\n",
    "Normal string:           print('this is just a normal string')\n",
    "f-strings (Formatted):   print(f'some text with a {variable} somewhere') \n",
    "r-strings (Raw):         print(r'some text with escape \\n symbols in it') \n",
    "</pre></code>\n",
    "\n"
   ]
  },
  {
   "cell_type": "markdown",
   "metadata": {},
   "source": [
    "Look at the difference on the following four prints. The first one is a normal string ad prints as such.\n",
    "\n"
   ]
  },
  {
   "cell_type": "code",
   "execution_count": 77,
   "metadata": {},
   "outputs": [
    {
     "name": "stdout",
     "output_type": "stream",
     "text": [
      "normal: this is just a normal string\n"
     ]
    }
   ],
   "source": [
    "print('normal: this is just a normal string')\n"
   ]
  },
  {
   "cell_type": "markdown",
   "metadata": {},
   "source": [
    "The second one is a formatted string. Formatted strings are capable of introducing variables inside the string without further modifications.\n",
    "Be it a string, an integer or a Boolean it is capable of printing it without the userhaving to change it to a string first, Python does that authomanically. \n",
    "\n",
    "Look at the three different cases laid down:"
   ]
  },
  {
   "cell_type": "code",
   "execution_count": 80,
   "metadata": {},
   "outputs": [
    {
     "name": "stdout",
     "output_type": "stream",
     "text": [
      "True\n",
      "f-string: some text that can contain a True somewhere\n"
     ]
    }
   ],
   "source": [
    "print(f'f-string: some text that can contain a {input()} somewhere') \n"
   ]
  },
  {
   "cell_type": "code",
   "execution_count": 83,
   "metadata": {},
   "outputs": [
    {
     "name": "stdout",
     "output_type": "stream",
     "text": [
      "f-string: some text that can contain a 99 somewhere\n"
     ]
    }
   ],
   "source": [
    "integer=99\n",
    "print(f'f-string: some text that can contain a {integer} somewhere') \n"
   ]
  },
  {
   "cell_type": "code",
   "execution_count": 81,
   "metadata": {},
   "outputs": [
    {
     "name": "stdout",
     "output_type": "stream",
     "text": [
      "f-string: some text that can contain a True somewhere\n"
     ]
    }
   ],
   "source": [
    "Boolean= True\n",
    "print(f'f-string: some text that can contain a {Boolean} somewhere') \n"
   ]
  },
  {
   "cell_type": "markdown",
   "metadata": {},
   "source": [
    "The third case are the raw strings. Raw strings print the message given to them with no changes. \n",
    "\n",
    "Python has by default __Escape Sequences__. Escape sequences are commands we can inlude within a string for formating. Raw strings ingnore them and display the string as is. "
   ]
  },
  {
   "cell_type": "code",
   "execution_count": 85,
   "metadata": {},
   "outputs": [
    {
     "name": "stdout",
     "output_type": "stream",
     "text": [
      "r-string: some text with escape \\n symbols in it\n",
      "Because \n",
      " in a normal string means a line-break\n"
     ]
    }
   ],
   "source": [
    "print(r'r-string: some text with escape \\n symbols in it')\n",
    "print('Because \\n in a normal string means a line-break')"
   ]
  },
  {
   "cell_type": "markdown",
   "metadata": {},
   "source": [
    "#### Escape Sequences\n",
    "<pre><code>\\n  NEW LINE\n",
    "\\t  TAB\n",
    "\\\\  BACKSLASH\n",
    "\\'  SINGLE QUOTE\n",
    "\\\"  DOUBLE QUOTE\n",
    "</pre></code>"
   ]
  },
  {
   "cell_type": "markdown",
   "metadata": {},
   "source": [
    "***Notice that with Escape sequences the problem we had before with the single and double quote is gone***"
   ]
  },
  {
   "cell_type": "markdown",
   "metadata": {},
   "source": [
    "## 1.11 Operations with strings:  String concatenation"
   ]
  },
  {
   "cell_type": "markdown",
   "metadata": {},
   "source": [
    "In general, you cannot perform mathematical operations on strings, even if the strings look like numbers. The following\n",
    "are illegal __(assuming that message has type string)__:"
   ]
  },
  {
   "cell_type": "markdown",
   "metadata": {},
   "source": [
    "<pre><code>\n",
    "                                  >>> message - 1        # Error\n",
    "                                  >>> \"Hello\" / 123      # Error\n",
    "                                  >>> message * \"Hello\"  # Error\n",
    "                                  >>> \"15\" + 2           # Error\n",
    "</pre></code>"
   ]
  },
  {
   "cell_type": "markdown",
   "metadata": {},
   "source": [
    "The __+__ operator works in strings, but its fuction is not addition, but concatenation"
   ]
  },
  {
   "cell_type": "code",
   "execution_count": 64,
   "metadata": {},
   "outputs": [
    {
     "name": "stdout",
     "output_type": "stream",
     "text": [
      "banana nut bread\n"
     ]
    }
   ],
   "source": [
    "fruit = \"banana\"\n",
    "baked_good = \" nut bread\"\n",
    "print(fruit + baked_good)"
   ]
  },
  {
   "cell_type": "markdown",
   "metadata": {},
   "source": [
    "The output of this program is banana nut bread. The space before the word nut is part of the string, and is\n",
    "necessary to produce the space between the concatenated strings.\n",
    "\n",
    "The __*__ operator also works on strings; it performs repetition. For example, 'Fun'*3 is 'FunFunFun'. One of the\n",
    "operands has to be a string; the other has to be an integer.\n",
    "\n",
    "On one hand, this interpretation of + and * makes sense by analogy with addition and multiplication. Just as 4*3 is equivalent to 4+4+4, we expect \"Fun\"*3 to be the same as \"Fun\"+\"Fun\"+\"Fun\", and it is. On the other hand,\n",
    "there is a significant way in which string concatenation and repetition are different from integer addition and multiplication. Can you think of a property that addition and multiplication have that string concatenation and repetition do not?"
   ]
  },
  {
   "cell_type": "code",
   "execution_count": 65,
   "metadata": {},
   "outputs": [
    {
     "name": "stdout",
     "output_type": "stream",
     "text": [
      "FUNFUNFUN\n"
     ]
    }
   ],
   "source": [
    "Fun= \"FUN\"\n",
    "print(Fun * 3)"
   ]
  },
  {
   "cell_type": "markdown",
   "metadata": {},
   "source": [
    "## 1.12 Composition"
   ]
  },
  {
   "cell_type": "markdown",
   "metadata": {},
   "source": [
    "So far, we have looked at the elements of a program — variables, expressions, statements, and function calls — in\n",
    "isolation, without talking about how to combine them.\n",
    "One of the most useful features of programming languages is their ability to take small building blocks and compose\n",
    "them into larger chunks.\n",
    "For example, we know how to get the user to enter some input, we know how to convert the string we get into a float,\n",
    "we know how to write a complex expression, and we know how to print values. Let’s put these together in a small\n",
    "four-step program that asks the user to input a value for the radius of a circle, and then computes the area of the circle\n",
    "from the formula:"
   ]
  },
  {
   "cell_type": "markdown",
   "metadata": {},
   "source": [
    "\n",
    "\\begin{align}\n",
    "\\ Area & = \\pi  x^2 \n",
    "\\end{align}\n",
    "\n"
   ]
  },
  {
   "cell_type": "markdown",
   "metadata": {},
   "source": [
    "Answer:"
   ]
  },
  {
   "cell_type": "code",
   "execution_count": 90,
   "metadata": {},
   "outputs": [
    {
     "name": "stdout",
     "output_type": "stream",
     "text": [
      "What is your radius? 3455\n",
      "The area is  37501238.36975\n"
     ]
    }
   ],
   "source": [
    "#First we request the user to input the radius of the cicle.\n",
    "response = input(\"What is your radius? \")\n",
    "\n",
    "# input() gives the program, but we require a float (as we also admit non-integer numbers). \n",
    "#We apply the float function\n",
    "r = float(response)\n",
    "\n",
    "#Now the radius is ready to be operated on. We write pi and multiply it by the radius squared. \n",
    "#Remember, in Python we sqare numbers with double asterisk.\n",
    "area = 3.14159 * r**2\n",
    "#Print the result\n",
    "print(\"The area is \", area)"
   ]
  },
  {
   "cell_type": "code",
   "execution_count": null,
   "metadata": {},
   "outputs": [],
   "source": []
  }
 ],
 "metadata": {
  "kernelspec": {
   "display_name": "Python 3",
   "language": "python",
   "name": "python3"
  },
  "language_info": {
   "codemirror_mode": {
    "name": "ipython",
    "version": 3
   },
   "file_extension": ".py",
   "mimetype": "text/x-python",
   "name": "python",
   "nbconvert_exporter": "python",
   "pygments_lexer": "ipython3",
   "version": "3.7.4"
  }
 },
 "nbformat": 4,
 "nbformat_minor": 2
}
