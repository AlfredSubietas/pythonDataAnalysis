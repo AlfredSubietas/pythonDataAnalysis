{
 "cells": [
  {
   "cell_type": "markdown",
   "metadata": {},
   "source": [
    "# What you'll learn"
   ]
  },
  {
   "cell_type": "markdown",
   "metadata": {},
   "source": [
    "On this notebook you'll learn what is a function and how to organize your code in fuctions.\n",
    "Additionally you'll learn how to import packages in Python"
   ]
  },
  {
   "cell_type": "markdown",
   "metadata": {},
   "source": [
    "## 2.1 Fuctions "
   ]
  },
  {
   "cell_type": "markdown",
   "metadata": {},
   "source": [
    "In Python, a function is a named sequence of statements that belong together. Their primary purpose is to help us\n",
    "organize programs into chunks that match how we think about the problem\n",
    "\n",
    "The syntax for a function definition is:\n"
   ]
  },
  {
   "cell_type": "markdown",
   "metadata": {},
   "source": [
    "<pre><code>\n",
    "def name  (parameters):\n",
    "    statements"
   ]
  },
  {
   "cell_type": "markdown",
   "metadata": {},
   "source": [
    "We can make up any names we want for the functions we create, except that we can’t use a name that is a Python\n",
    "keyword, and the names must follow the rules for legal identifiers.\n",
    "There can be any number of statements inside the function, but they have to be indented from the def. In the\n",
    "examples in this book, we will use the standard indentation of four spaces. Function definitions are the second of\n",
    "several compound statements we will see, all of which have the same pattern:\n",
    "1. A header line which begins with a keyword and ends with a colon.\n",
    "2. A body consisting of one or more Python statements, each indented the same amount — the Python style guide\n",
    "recommends 4 spaces — from the header line."
   ]
  },
  {
   "cell_type": "markdown",
   "metadata": {},
   "source": [
    "Let's draw out first function:"
   ]
  },
  {
   "cell_type": "code",
   "execution_count": 1,
   "metadata": {},
   "outputs": [],
   "source": [
    "def double(a):\n",
    "    #this fuction return the double of a given parameter\n",
    "    return a*2\n"
   ]
  },
  {
   "cell_type": "markdown",
   "metadata": {},
   "source": [
    "## 2.2 Functions that require arguments"
   ]
  },
  {
   "cell_type": "markdown",
   "metadata": {},
   "source": [
    "As you can see, on any given fuction there's the need to include the __return__ statement.\n",
    "\n",
    "Return is the statement that creates the output of the function. __Once a function reaches the return statmeent it will stop__.\n"
   ]
  },
  {
   "cell_type": "markdown",
   "metadata": {},
   "source": [
    "Most functions require arguments: the arguments provide for generalization. For example, if we want to find the\n",
    "absolute value of a number, we have to indicate what the number is. Python has a built-in function for computing the\n",
    "absolute value:"
   ]
  },
  {
   "cell_type": "code",
   "execution_count": 2,
   "metadata": {},
   "outputs": [
    {
     "name": "stdout",
     "output_type": "stream",
     "text": [
      "5\n",
      "5\n"
     ]
    }
   ],
   "source": [
    "print(abs(-5))\n",
    "print(abs(5))"
   ]
  },
  {
   "cell_type": "markdown",
   "metadata": {},
   "source": [
    "Some functions take more than one argument. For example the built-in function pow takes two arguments, the base\n",
    "and the exponent. Inside the function, the values that are passed get assigned to variables called **parameters**."
   ]
  },
  {
   "cell_type": "markdown",
   "metadata": {},
   "source": [
    "<pre><code>\n",
    ">>> pow(2, 3)\n",
    "8\n",
    ">>> pow(7, 4)\n",
    "2401"
   ]
  },
  {
   "cell_type": "markdown",
   "metadata": {},
   "source": [
    "Another built-in function that takes more than one argument is max."
   ]
  },
  {
   "cell_type": "markdown",
   "metadata": {},
   "source": [
    "<pre><code>\n",
    ">>> max(7, 11)\n",
    "11\n",
    ">>> max(4, 1, 17, 2, 12)\n",
    "17\n",
    ">>> max(3 * 11, 5**3, 512 - 9, 1024**0)\n",
    "503"
   ]
  },
  {
   "cell_type": "markdown",
   "metadata": {},
   "source": [
    "## 2.3 Functions that return values"
   ]
  },
  {
   "cell_type": "markdown",
   "metadata": {},
   "source": [
    "All the functions in the previous section return values. Calling each of these functions generates a value, which we usually assign to a variable or use as part of an expression."
   ]
  },
  {
   "cell_type": "code",
   "execution_count": 3,
   "metadata": {},
   "outputs": [],
   "source": [
    "biggest = max(3, 7, 2, 5) \n",
    "x = abs(3 - 11) + 10"
   ]
  },
  {
   "cell_type": "markdown",
   "metadata": {},
   "source": [
    "So an important difference between these functions and one like draw_square is that draw_square was not executed because we wanted it to compute a value — on the contrary, we wrote draw_square because we wanted it to execute a sequence of steps that caused the turtle to draw.\n",
    "A function that returns a value is called a fruitful function in this book. The opposite of a fruitful function is void function — one that is not executed for its resulting value, but is executed because it does something useful. (Languages like Java, C#, C and C++ use the term “void function”, other languages like Pascal call it a procedure.) Even though void functions are not executed for their resulting value, Python always wants to return something. So if the programmer doesn’t arrange to return a value, Python will automatically return the value None.\n",
    "How do we write our own fruitful function? In the exercises at the end of chapter 2 we saw the standard formula for compound interest, which we’ll now write as a fruitful function:"
   ]
  },
  {
   "cell_type": "code",
   "execution_count": null,
   "metadata": {},
   "outputs": [],
   "source": [
    "def final_amount(p, r, n, t): \n",
    "    \"\"\"\n",
    "    Apply the compound interest formula to p to produce the final amount.\n",
    "    \"\"\"\n",
    "    a = p * (1 + r/n) ** (n*t)\n",
    "    return a # This is new, and makes the function fruitful.\n",
    "# now that we have the function above, let us call it.\n",
    "toInvest = float(input(\"How much do you want to invest? \"))\n",
    "\n",
    "fnl = final_amount(toInvest, 0.08, 12, 5) \n",
    "print(\"At the end of the period you'll have\", fnl)\n",
    "\n",
    "\n"
   ]
  },
  {
   "cell_type": "markdown",
   "metadata": {},
   "source": [
    "#### What do you need to notice on this exercise?"
   ]
  },
  {
   "cell_type": "markdown",
   "metadata": {},
   "source": [
    "- The return statement is followed an expression (a in this case). This expression will be evaluated and returned to the caller as the “fruit” of calling this function.\n",
    "- We prompted the user for the principal amount. The type of toInvest is a string, but we need a number before we can work with it. Because it is money, and could have decimal places, we’ve used the float type converter function to parse the string and return a float.\n",
    "- Notice how we entered the arguments for 8% interest, compounded 12 times per year, for 5 years.\n",
    "- When we run this, we get the output\n",
    "\n",
    "At the end of the period you’ll have 14898.45708301605\n",
    "\n",
    "This is a bit messy with all these decimal places, but remember that Python doesn’t understand that we’re working with money: it just does the calculation to the best of its ability, without rounding. Later we’ll see how to format the string that is printed in such a way that it does get nicely rounded to two decimal places before \n",
    "printing.\n",
    "\n",
    "- The line toInvest = float(input(\"How much do you want to invest?\")) also shows yet another example of composition — we can call a function like float, and its arguments can be the results of other function calls (like input) that we’ve called along the way"
   ]
  },
  {
   "cell_type": "markdown",
   "metadata": {},
   "source": [
    "Notice something else very important here. The name of the variable we pass as an argument — toInvest — has nothing to do with the name of the parameter —p. It is as if p = toInvest is executed when final_amount is called. It doesn’t matter what the value was named in the caller, in final_amount its name is p.\n",
    "These short variable names are getting quite tricky, so perhaps we’d prefer one of these versions instead:"
   ]
  },
  {
   "cell_type": "code",
   "execution_count": 2,
   "metadata": {},
   "outputs": [],
   "source": [
    "def final_amount_v2(principal_amount, nominal_percentage_rate, num_times_per_year, years):\n",
    "    a = principal_amount * (1 + nominal_percentage_rate / num_times_per_year) ** (num_times_per_year*years)\n",
    "    return a\n",
    "def final_amount_v3(amount, rate, compounded, years):\n",
    "    a = amount * (1 + rate/compounded) ** (componded*years) \n",
    "    return a\n",
    "def final_amount_v4(amount, rate, compounded, years):\n",
    "\n",
    "    return amount * (1 + rate/compounded) ** (componded*years)"
   ]
  },
  {
   "cell_type": "markdown",
   "metadata": {},
   "source": [
    "They all do the same thing. Use your judgement to write code that can be best understood by other humans! Short variable names should generally be avoided, unless when short variables make more sense. This happens in particular with mathematical equations, where it’s perfectly fine to use x, y, etc."
   ]
  },
  {
   "cell_type": "code",
   "execution_count": null,
   "metadata": {},
   "outputs": [],
   "source": []
  },
  {
   "cell_type": "code",
   "execution_count": null,
   "metadata": {},
   "outputs": [],
   "source": []
  }
 ],
 "metadata": {
  "kernelspec": {
   "display_name": "Python 3",
   "language": "python",
   "name": "python3"
  },
  "language_info": {
   "codemirror_mode": {
    "name": "ipython",
    "version": 3
   },
   "file_extension": ".py",
   "mimetype": "text/x-python",
   "name": "python",
   "nbconvert_exporter": "python",
   "pygments_lexer": "ipython3",
   "version": "3.7.4"
  }
 },
 "nbformat": 4,
 "nbformat_minor": 2
}
